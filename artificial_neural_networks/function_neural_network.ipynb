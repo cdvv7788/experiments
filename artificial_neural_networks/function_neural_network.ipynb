{
 "cells": [
  {
   "cell_type": "code",
   "execution_count": 112,
   "metadata": {},
   "outputs": [],
   "source": [
    "import numpy as np\n",
    "import matplotlib.pyplot as plt\n",
    "from sklearn.preprocessing import scale, MinMaxScaler\n",
    "from keras.models import Sequential\n",
    "from keras.layers import Dense\n",
    "import keras.backend as K"
   ]
  },
  {
   "cell_type": "markdown",
   "metadata": {},
   "source": [
    "We need to generate the data to use input/labels for the neural network.\n",
    "Let's start with that.\n",
    "\n",
    "We have x as input (size 1) and y as output (size 1)."
   ]
  },
  {
   "cell_type": "code",
   "execution_count": 209,
   "metadata": {},
   "outputs": [],
   "source": [
    "X_train = np.array(range(-5000, 5000))\n",
    "y_train = np.array([(x**3) + (2*(x**2)) - 5 for x in X_train])"
   ]
  },
  {
   "cell_type": "code",
   "execution_count": 228,
   "metadata": {
    "scrolled": true
   },
   "outputs": [
    {
     "data": {
      "image/png": "[encoded data removed]",
      "text/plain": [
       "<Figure size 432x288 with 1 Axes>"
      ]
     },
     "metadata": {},
     "output_type": "display_data"
    }
   ],
   "source": [
    "plt.scatter(X_train, y_train)\n",
    "plt.show()"
   ]
  },
  {
   "cell_type": "markdown",
   "metadata": {},
   "source": [
    "Start by creating the sequential model in keras"
   ]
  },
  {
   "cell_type": "code",
   "execution_count": 250,
   "metadata": {},
   "outputs": [],
   "source": [
    "model = Sequential()"
   ]
  },
  {
   "cell_type": "markdown",
   "metadata": {},
   "source": [
    "Now, we add the layers to the model"
   ]
  },
  {
   "cell_type": "code",
   "execution_count": 251,
   "metadata": {},
   "outputs": [],
   "source": [
    "model.add(Dense(5, input_shape=(1,)))\n",
    "model.add(Dense(100, activation='relu')) # Play with values: i.e. 1, 10, 100. Try also adding new layers.\n",
    "model.add(Dense(100, activation='relu'))\n",
    "model.add(Dense(100, activation='relu'))\n",
    "model.add(Dense(1, activation='linear'))"
   ]
  },
  {
   "cell_type": "markdown",
   "metadata": {},
   "source": [
    "The model needs to be \"compiled\" before being trained"
   ]
  },
  {
   "cell_type": "code",
   "execution_count": 252,
   "metadata": {},
   "outputs": [],
   "source": [
    "def soft_acc(y_true, y_pred):\n",
    "    return K.mean(K.equal(K.round(y_true), K.round(y_pred)))\n",
    "model.compile(loss='mean_squared_error', optimizer='adam', metrics=[soft_acc])"
   ]
  },
  {
   "cell_type": "markdown",
   "metadata": {},
   "source": [
    "Now we can train it and monitor it's progress."
   ]
  },
  {
   "cell_type": "code",
   "execution_count": 253,
   "metadata": {},
   "outputs": [
    {
     "name": "stderr",
     "output_type": "stream",
     "text": [
      "/Users/cristian/.envs/jupyter/lib/python3.6/site-packages/sklearn/utils/validation.py:475: DataConversionWarning: Data with input dtype int64 was converted to float64 by MinMaxScaler.\n",
      "  warnings.warn(msg, DataConversionWarning)\n"
     ]
    },
    {
     "name": "stdout",
     "output_type": "stream",
     "text": [
      "Epoch 1/20\n",
      "10000/10000 [==============================] - 2s 173us/step - loss: 0.0069 - soft_acc: 0.9703\n",
      "Epoch 2/20\n",
      "10000/10000 [==============================] - 1s 59us/step - loss: 5.5542e-05 - soft_acc: 0.9957\n",
      "Epoch 3/20\n",
      "10000/10000 [==============================] - 1s 60us/step - loss: 2.3593e-05 - soft_acc: 0.9980\n",
      "Epoch 4/20\n",
      "10000/10000 [==============================] - 1s 61us/step - loss: 6.8125e-05 - soft_acc: 0.9973\n",
      "Epoch 5/20\n",
      "10000/10000 [==============================] - 1s 60us/step - loss: 7.7549e-05 - soft_acc: 0.9968\n",
      "Epoch 6/20\n",
      "10000/10000 [==============================] - 1s 60us/step - loss: 7.0319e-05 - soft_acc: 0.9974\n",
      "Epoch 7/20\n",
      "10000/10000 [==============================] - 1s 61us/step - loss: 4.2203e-05 - soft_acc: 0.9979\n",
      "Epoch 8/20\n",
      "10000/10000 [==============================] - 1s 61us/step - loss: 9.9413e-06 - soft_acc: 0.9985\n",
      "Epoch 9/20\n",
      "10000/10000 [==============================] - 1s 59us/step - loss: 3.0175e-05 - soft_acc: 0.9974\n",
      "Epoch 10/20\n",
      "10000/10000 [==============================] - 1s 61us/step - loss: 2.3461e-04 - soft_acc: 0.9934\n",
      "Epoch 11/20\n",
      "10000/10000 [==============================] - 1s 60us/step - loss: 1.3519e-05 - soft_acc: 0.9983\n",
      "Epoch 12/20\n",
      "10000/10000 [==============================] - 1s 59us/step - loss: 3.6525e-06 - soft_acc: 0.9992\n",
      "Epoch 13/20\n",
      "10000/10000 [==============================] - 1s 61us/step - loss: 2.0382e-06 - soft_acc: 0.9994\n",
      "Epoch 14/20\n",
      "10000/10000 [==============================] - 1s 59us/step - loss: 1.5490e-05 - soft_acc: 0.9981\n",
      "Epoch 15/20\n",
      "10000/10000 [==============================] - 1s 60us/step - loss: 1.2807e-04 - soft_acc: 0.9952\n",
      "Epoch 16/20\n",
      "10000/10000 [==============================] - 1s 60us/step - loss: 7.2015e-05 - soft_acc: 0.9975\n",
      "Epoch 17/20\n",
      "10000/10000 [==============================] - 1s 62us/step - loss: 4.5206e-06 - soft_acc: 0.9984\n",
      "Epoch 18/20\n",
      "10000/10000 [==============================] - 1s 63us/step - loss: 1.6456e-05 - soft_acc: 0.9986\n",
      "Epoch 19/20\n",
      "10000/10000 [==============================] - 1s 63us/step - loss: 7.6077e-05 - soft_acc: 0.9966\n",
      "Epoch 20/20\n",
      "10000/10000 [==============================] - 1s 67us/step - loss: 2.0450e-05 - soft_acc: 0.9984\n"
     ]
    }
   ],
   "source": [
    "x_scaler = MinMaxScaler(feature_range=(-1,1))\n",
    "y_scaler = MinMaxScaler(feature_range=(-1,1))\n",
    "x_scaler.fit(X_train.reshape(-1,1))\n",
    "X_train_norm = x_scaler.transform(X_train.reshape(-1,1))\n",
    "y_scaler.fit(y_train.reshape(-1,1))\n",
    "y_train_norm = y_scaler.transform(y_train.reshape(-1,1))\n",
    "history = model.fit(X_train_norm, y_train_norm, epochs=20)"
   ]
  },
  {
   "cell_type": "code",
   "execution_count": 254,
   "metadata": {},
   "outputs": [
    {
     "data": {
      "image/png": "[encoded data removed]",
      "text/plain": [
       "<Figure size 432x288 with 1 Axes>"
      ]
     },
     "metadata": {},
     "output_type": "display_data"
    },
    {
     "data": {
      "image/png": "[encoded data removed]",
      "text/plain": [
       "<Figure size 432x288 with 1 Axes>"
      ]
     },
     "metadata": {},
     "output_type": "display_data"
    }
   ],
   "source": [
    "plt.plot(history.history['soft_acc'])\n",
    "plt.title('model accuracy')\n",
    "plt.ylabel('accuracy')\n",
    "plt.xlabel('epoch')\n",
    "plt.legend(['train'], loc='upper left')\n",
    "plt.show()\n",
    "plt.plot(history.history['loss'])\n",
    "plt.title('model loss')\n",
    "plt.ylabel('loss')\n",
    "plt.xlabel('epoch')\n",
    "plt.legend(['train'], loc='upper left')\n",
    "plt.show()"
   ]
  },
  {
   "cell_type": "code",
   "execution_count": 263,
   "metadata": {},
   "outputs": [
    {
     "data": {
      "image/png": "[encoded data removed]",
      "text/plain": [
       "<Figure size 432x288 with 1 Axes>"
      ]
     },
     "metadata": {},
     "output_type": "display_data"
    }
   ],
   "source": [
    "y_predicted = model.predict(x_scaler.transform(X_train.reshape(-1,1)))\n",
    "plt.scatter(X_train, y_scaler.inverse_transform(y_predicted))\n",
    "plt.show()"
   ]
  },
  {
   "cell_type": "code",
   "execution_count": 278,
   "metadata": {},
   "outputs": [
    {
     "name": "stdout",
     "output_type": "stream",
     "text": [
      "x_transform: [[0.00010001]], prediction_transform: [[-0.01152071]], prediction: [[-1.4271592e+09]], expected: -5\n",
      "error: [[1.4271592e+09]]\n"
     ]
    }
   ],
   "source": [
    "y_expected = (0**3) + (2*(0**2)) - 5\n",
    "x_transform = x_scaler.transform(0)\n",
    "prediction = model.predict(x_transform)\n",
    "y = y_scaler.inverse_transform(prediction)\n",
    "print('x_transform: {}, prediction_transform: {}, prediction: {}, expected: {}'\n",
    "      .format(x_transform, prediction, y, y_expected))\n",
    "print('error: {}'.format(abs(y-y_expected)))"
   ]
  },
  {
   "cell_type": "code",
   "execution_count": 280,
   "metadata": {},
   "outputs": [
    {
     "name": "stdout",
     "output_type": "stream",
     "text": [
      "x_transform: [[1.00020002]], prediction_transform: [[1.0014141]], prediction: [[1.251517e+11]], expected: 125049999995\n",
      "error: [[1.01698949e+08]]\n"
     ]
    }
   ],
   "source": [
    "y_expected = (5000**3) + (2*(5000**2)) - 5\n",
    "x_transform = x_scaler.transform(5000)\n",
    "prediction = model.predict(x_transform)\n",
    "y = y_scaler.inverse_transform(prediction)\n",
    "print('x_transform: {}, prediction_transform: {}, prediction: {}, expected: {}'\n",
    "      .format(x_transform, prediction, y, y_expected))\n",
    "print('error: {}'.format(abs(y-y_expected)))"
   ]
  },
  {
   "cell_type": "code",
   "execution_count": null,
   "metadata": {},
   "outputs": [],
   "source": []
  }
 ],
 "metadata": {
  "kernelspec": {
   "display_name": "Python 3",
   "language": "python",
   "name": "python3"
  },
  "language_info": {
   "codemirror_mode": {
    "name": "ipython",
    "version": 3
   },
   "file_extension": ".py",
   "mimetype": "text/x-python",
   "name": "python",
   "nbconvert_exporter": "python",
   "pygments_lexer": "ipython3",
   "version": "3.6.5"
  }
 },
 "nbformat": 4,
 "nbformat_minor": 2
}

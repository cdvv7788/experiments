{
 "cells": [
  {
   "cell_type": "markdown",
   "metadata": {},
   "source": [
    "When we have data that is not numerical, we need to modify it to a numeric representation to be able to process our data with the usual methods."
   ]
  },
  {
   "cell_type": "code",
   "execution_count": 32,
   "metadata": {},
   "outputs": [],
   "source": [
    "import pandas as pd"
   ]
  },
  {
   "cell_type": "code",
   "execution_count": 63,
   "metadata": {},
   "outputs": [],
   "source": [
    "target_url = 'https://ocw.mit.edu/courses/sloan-school-of-management/15-097-prediction-machine-learning-and-statistics-spring-2012/datasets/careval.csv'\n",
    "feature_names = ['buying', 'maint', 'doors', 'persons', 'lug_boot', 'safety', 'target']\n",
    "df = pd.read_csv(target_url, names=feature_names)\n",
    "df[['doors', 'persons']] = df[['doors', 'persons']].apply(pd.to_numeric, errors='coerce')"
   ]
  },
  {
   "cell_type": "code",
   "execution_count": 65,
   "metadata": {},
   "outputs": [
    {
     "name": "stdout",
     "output_type": "stream",
     "text": [
      "<class 'pandas.core.frame.DataFrame'>\n",
      "RangeIndex: 1728 entries, 0 to 1727\n",
      "Data columns (total 7 columns):\n",
      "buying      1728 non-null object\n",
      "maint       1728 non-null object\n",
      "doors       1296 non-null float64\n",
      "persons     1152 non-null float64\n",
      "lug_boot    1728 non-null object\n",
      "safety      1728 non-null object\n",
      "target      1728 non-null object\n",
      "dtypes: float64(2), object(5)\n",
      "memory usage: 94.6+ KB\n"
     ]
    }
   ],
   "source": [
    "df.info()"
   ]
  },
  {
   "cell_type": "markdown",
   "metadata": {},
   "source": [
    "As you can see, there are several rows that are not numeric."
   ]
  },
  {
   "cell_type": "code",
   "execution_count": 68,
   "metadata": {},
   "outputs": [
    {
     "name": "stdout",
     "output_type": "stream",
     "text": [
      "<class 'pandas.core.frame.DataFrame'>\n",
      "RangeIndex: 1728 entries, 0 to 1727\n",
      "Data columns (total 15 columns):\n",
      "doors             1296 non-null float64\n",
      "persons           1152 non-null float64\n",
      "buying_low        1728 non-null uint8\n",
      "buying_med        1728 non-null uint8\n",
      "buying_vhigh      1728 non-null uint8\n",
      "maint_low         1728 non-null uint8\n",
      "maint_med         1728 non-null uint8\n",
      "maint_vhigh       1728 non-null uint8\n",
      "lug_boot_med      1728 non-null uint8\n",
      "lug_boot_small    1728 non-null uint8\n",
      "safety_low        1728 non-null uint8\n",
      "safety_med        1728 non-null uint8\n",
      "target_good       1728 non-null uint8\n",
      "target_unacc      1728 non-null uint8\n",
      "target_vgood      1728 non-null uint8\n",
      "dtypes: float64(2), uint8(13)\n",
      "memory usage: 49.0 KB\n"
     ]
    }
   ],
   "source": [
    "df_dummy = pd.get_dummies(df, drop_first=True)\n",
    "df_dummy.info()"
   ]
  },
  {
   "cell_type": "markdown",
   "metadata": {},
   "source": [
    "The get_dummies method will split every feature of type object into several columns. If there are, for example, 3 different values for a feature, 3 columns will be created, and the value on every column will be 1 if it corresponds with that label. For a given feature, if two of the new columns are zero, we can conclude that the value is 1 for the other column, so we can just remove that and infer it that way. That's what the \"drop_first\" parameter do. This is also known as one-hot encoding."
   ]
  },
  {
   "cell_type": "code",
   "execution_count": 70,
   "metadata": {},
   "outputs": [
    {
     "name": "stdout",
     "output_type": "stream",
     "text": [
      "<class 'pandas.core.frame.DataFrame'>\n",
      "RangeIndex: 1728 entries, 0 to 1727\n",
      "Data columns (total 7 columns):\n",
      "buying      1728 non-null category\n",
      "maint       1728 non-null object\n",
      "doors       1296 non-null float64\n",
      "persons     1152 non-null float64\n",
      "lug_boot    1728 non-null object\n",
      "safety      1728 non-null object\n",
      "target      1728 non-null object\n",
      "dtypes: category(1), float64(2), object(4)\n",
      "memory usage: 83.0+ KB\n"
     ]
    }
   ],
   "source": [
    "df['buying'] = df['buying'].astype('category')\n",
    "df.info()"
   ]
  },
  {
   "cell_type": "code",
   "execution_count": null,
   "metadata": {},
   "outputs": [],
   "source": []
  }
 ],
 "metadata": {
  "kernelspec": {
   "display_name": "Python 3",
   "language": "python",
   "name": "python3"
  },
  "language_info": {
   "codemirror_mode": {
    "name": "ipython",
    "version": 3
   },
   "file_extension": ".py",
   "mimetype": "text/x-python",
   "name": "python",
   "nbconvert_exporter": "python",
   "pygments_lexer": "ipython3",
   "version": "3.6.5"
  }
 },
 "nbformat": 4,
 "nbformat_minor": 2
}

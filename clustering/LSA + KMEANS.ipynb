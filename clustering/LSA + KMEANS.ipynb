{
 "cells": [
  {
   "cell_type": "markdown",
   "metadata": {},
   "source": [
    "KNMeans allows clustering related data. We can tell it how many groups we want it to use, and it will group based on that.\n",
    "In this case, we will use wikipedia articles and we will perform a naive word extraction.\n",
    "To be able to work with documents, we will use [tf-idf](https://en.wikipedia.org/wiki/Tf%E2%80%93idf)"
   ]
  },
  {
   "cell_type": "code",
   "execution_count": 85,
   "metadata": {},
   "outputs": [],
   "source": [
    "from bs4 import BeautifulSoup\n",
    "import requests\n",
    "import re\n",
    "from sklearn.feature_extraction.text import TfidfVectorizer\n",
    "\n",
    "documents = []\n",
    "articles = [\n",
    "    'https://en.wikipedia.org/wiki/Tf%E2%80%93idf',\n",
    "    'https://en.wikipedia.org/wiki/Nintendo',\n",
    "    'https://en.wikipedia.org/wiki/Video_game',\n",
    "    'https://en.wikipedia.org/wiki/War',\n",
    "    'https://en.wikipedia.org/wiki/Love',\n",
    "    'https://en.wikipedia.org/wiki/Stephen_Hawking',\n",
    "    'https://en.wikipedia.org/wiki/Metal_Gear_Solid',\n",
    "    'https://en.wikipedia.org/wiki/Neil_deGrasse_Tyson',\n",
    "    'https://en.wikipedia.org/wiki/The_Cure',\n",
    "    'https://en.wikipedia.org/wiki/Metallica',\n",
    "    'https://en.wikipedia.org/wiki/Freddie_Mercury',\n",
    "    'https://en.wikipedia.org/wiki/Hatred,',\n",
    "    'https://en.wikipedia.org/wiki/Peace',\n",
    "]\n",
    "article_titles = [\n",
    "    'tf-idf',\n",
    "    'Nintendo',\n",
    "    'VideoGames',\n",
    "    'War',\n",
    "    'Love',\n",
    "    'Stephen Hawking',\n",
    "    'Metal Gear Solid',\n",
    "    'Neil deGrasse Tyson',\n",
    "    'The cure',\n",
    "    'Metallica',\n",
    "    'Freddy Mercury',\n",
    "    'Hatred',\n",
    "    'Peace',\n",
    "]"
   ]
  },
  {
   "cell_type": "code",
   "execution_count": 86,
   "metadata": {},
   "outputs": [],
   "source": [
    "for article in articles:\n",
    "    response = requests.get(article)\n",
    "    soup = BeautifulSoup(response.content)\n",
    "    paragraphs = soup.find_all('p')\n",
    "    extracted_text = [paragraph.get_text().strip('\\n') for paragraph in paragraphs]\n",
    "    extracted_text = ' '.join(extracted_text)\n",
    "    documents.append(re.sub(\"[\\(\\[].*?[\\)\\]]\", \"\", extracted_text))"
   ]
  },
  {
   "cell_type": "code",
   "execution_count": 87,
   "metadata": {},
   "outputs": [],
   "source": [
    "tfidf = TfidfVectorizer()\n",
    "sparse_mat = tfidf.fit_transform(documents)"
   ]
  },
  {
   "cell_type": "markdown",
   "metadata": {},
   "source": [
    "Now that we have the tf-idf matrix, we can proceed.\n",
    "We will start by extracting the [PCA](https://en.wikipedia.org/wiki/Principal_component_analysis) on the data. With this we will be able to reduce the dimensions of our data, extracting the principal components of the dataset.\n",
    "After that we will use KMeans to create our clusters."
   ]
  },
  {
   "cell_type": "code",
   "execution_count": 90,
   "metadata": {},
   "outputs": [],
   "source": [
    "from sklearn.decomposition import TruncatedSVD\n",
    "from sklearn.cluster import KMeans\n",
    "from sklearn.pipeline import make_pipeline\n",
    "import pandas as pd\n",
    "\n",
    "pca = TruncatedSVD(n_components=30)\n",
    "kmeans = KMeans(n_clusters=6)\n",
    "pipeline = make_pipeline(pca, kmeans)"
   ]
  },
  {
   "cell_type": "code",
   "execution_count": 95,
   "metadata": {},
   "outputs": [
    {
     "name": "stdout",
     "output_type": "stream",
     "text": [
      "label                title\n",
      "    0             The cure\n",
      "    0            Metallica\n",
      "    1                  War\n",
      "    1                 Love\n",
      "    1                Peace\n",
      "    2               Hatred\n",
      "    3             Nintendo\n",
      "    3           VideoGames\n",
      "    3     Metal Gear Solid\n",
      "    4               tf-idf\n",
      "    5      Stephen Hawking\n",
      "    5  Neil deGrasse Tyson\n",
      "    5       Freddy Mercury\n"
     ]
    }
   ],
   "source": [
    "pipeline.fit(sparse_mat)\n",
    "labels = pipeline.predict(sparse_mat)\n",
    "df = pd.DataFrame({'label': labels, 'title': article_titles})\n",
    "print(df.sort_values('label').to_string(index=False))"
   ]
  },
  {
   "cell_type": "markdown",
   "metadata": {},
   "source": [
    "If you examine the output, you can see that articles that have similar topics are in the same cluster. You can add some more articles and play around with n_components(TruncatedSVD) and n_clusters(KMeans) to see how the behavior varies with that."
   ]
  },
  {
   "cell_type": "code",
   "execution_count": null,
   "metadata": {},
   "outputs": [],
   "source": []
  }
 ],
 "metadata": {
  "kernelspec": {
   "display_name": "Python 3",
   "language": "python",
   "name": "python3"
  },
  "language_info": {
   "codemirror_mode": {
    "name": "ipython",
    "version": 3
   },
   "file_extension": ".py",
   "mimetype": "text/x-python",
   "name": "python",
   "nbconvert_exporter": "python",
   "pygments_lexer": "ipython3",
   "version": "3.6.5"
  }
 },
 "nbformat": 4,
 "nbformat_minor": 2
}
